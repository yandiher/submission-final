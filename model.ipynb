{
 "cells": [
  {
   "cell_type": "code",
   "execution_count": 70,
   "id": "4e9e6512-f392-41a5-ade6-77089807e335",
   "metadata": {},
   "outputs": [],
   "source": [
    "import numpy as np\n",
    "import pandas as pd\n",
    "from sklearn.preprocessing import MinMaxScaler, OneHotEncoder\n",
    "from sklearn.model_selection import train_test_split\n",
    "from sklearn.metrics import accuracy_score, classification_report, ConfusionMatrixDisplay\n",
    "from sklearn.ensemble import RandomForestClassifier"
   ]
  },
  {
   "cell_type": "code",
   "execution_count": 44,
   "id": "ebdcdf56-f322-44bd-b594-0a6050adae27",
   "metadata": {},
   "outputs": [],
   "source": [
    "dataset = pd.read_csv('dataset_clean.csv')"
   ]
  },
  {
   "cell_type": "code",
   "execution_count": 45,
   "id": "d45fc439-f2bd-48ba-99da-41f638624e91",
   "metadata": {},
   "outputs": [
    {
     "data": {
      "text/html": [
       "<div>\n",
       "<style scoped>\n",
       "    .dataframe tbody tr th:only-of-type {\n",
       "        vertical-align: middle;\n",
       "    }\n",
       "\n",
       "    .dataframe tbody tr th {\n",
       "        vertical-align: top;\n",
       "    }\n",
       "\n",
       "    .dataframe thead th {\n",
       "        text-align: right;\n",
       "    }\n",
       "</style>\n",
       "<table border=\"1\" class=\"dataframe\">\n",
       "  <thead>\n",
       "    <tr style=\"text-align: right;\">\n",
       "      <th></th>\n",
       "      <th>Unnamed: 0</th>\n",
       "      <th>marital_status</th>\n",
       "      <th>application_mode</th>\n",
       "      <th>course</th>\n",
       "      <th>time_attendance</th>\n",
       "      <th>previous_qualification</th>\n",
       "      <th>mother_qualification</th>\n",
       "      <th>father_qualification</th>\n",
       "      <th>mother_occupation</th>\n",
       "      <th>father_occupation</th>\n",
       "      <th>...</th>\n",
       "      <th>Admission_grade</th>\n",
       "      <th>Age_at_enrollment</th>\n",
       "      <th>Curricular_units_1st_sem_credited</th>\n",
       "      <th>Curricular_units_1st_sem_enrolled</th>\n",
       "      <th>Curricular_units_1st_sem_evaluations</th>\n",
       "      <th>Curricular_units_1st_sem_approved</th>\n",
       "      <th>Curricular_units_1st_sem_grade</th>\n",
       "      <th>Curricular_units_1st_sem_without_evaluations</th>\n",
       "      <th>GDP</th>\n",
       "      <th>graduate</th>\n",
       "    </tr>\n",
       "  </thead>\n",
       "  <tbody>\n",
       "    <tr>\n",
       "      <th>0</th>\n",
       "      <td>0</td>\n",
       "      <td>single</td>\n",
       "      <td>2nd phase - general contingent</td>\n",
       "      <td>Animation and Multimedia Design</td>\n",
       "      <td>daytime</td>\n",
       "      <td>Secondary education</td>\n",
       "      <td>Basic Education 3rd Cycle (9th/10th/11th Year)...</td>\n",
       "      <td>Other - 11th Year of Schooling</td>\n",
       "      <td>Personal Services, Security and Safety Workers...</td>\n",
       "      <td>Unskilled Workers</td>\n",
       "      <td>...</td>\n",
       "      <td>127.3</td>\n",
       "      <td>20.0</td>\n",
       "      <td>0.0</td>\n",
       "      <td>0.0</td>\n",
       "      <td>0.0</td>\n",
       "      <td>0.0</td>\n",
       "      <td>0.000000</td>\n",
       "      <td>0.0</td>\n",
       "      <td>1.74</td>\n",
       "      <td>0</td>\n",
       "    </tr>\n",
       "    <tr>\n",
       "      <th>1</th>\n",
       "      <td>1</td>\n",
       "      <td>single</td>\n",
       "      <td>International student (bachelor)</td>\n",
       "      <td>Tourism</td>\n",
       "      <td>daytime</td>\n",
       "      <td>Secondary education</td>\n",
       "      <td>Secondary Education - 12th Year of Schooling o...</td>\n",
       "      <td>Higher Education - Degree</td>\n",
       "      <td>Intermediate Level Technicians and Professions</td>\n",
       "      <td>Intermediate Level Technicians and Professions</td>\n",
       "      <td>...</td>\n",
       "      <td>142.5</td>\n",
       "      <td>19.0</td>\n",
       "      <td>0.0</td>\n",
       "      <td>6.0</td>\n",
       "      <td>6.0</td>\n",
       "      <td>6.0</td>\n",
       "      <td>14.000000</td>\n",
       "      <td>0.0</td>\n",
       "      <td>0.79</td>\n",
       "      <td>1</td>\n",
       "    </tr>\n",
       "    <tr>\n",
       "      <th>2</th>\n",
       "      <td>2</td>\n",
       "      <td>single</td>\n",
       "      <td>1st phase - general contingent</td>\n",
       "      <td>Communication Design</td>\n",
       "      <td>daytime</td>\n",
       "      <td>Secondary education</td>\n",
       "      <td>Basic education 1st cycle (4th/5th year) or eq...</td>\n",
       "      <td>Basic education 1st cycle (4th/5th year) or equiv</td>\n",
       "      <td>Unskilled Workers</td>\n",
       "      <td>Unskilled Workers</td>\n",
       "      <td>...</td>\n",
       "      <td>124.8</td>\n",
       "      <td>19.0</td>\n",
       "      <td>0.0</td>\n",
       "      <td>6.0</td>\n",
       "      <td>0.0</td>\n",
       "      <td>0.0</td>\n",
       "      <td>0.000000</td>\n",
       "      <td>0.0</td>\n",
       "      <td>1.74</td>\n",
       "      <td>0</td>\n",
       "    </tr>\n",
       "    <tr>\n",
       "      <th>3</th>\n",
       "      <td>3</td>\n",
       "      <td>single</td>\n",
       "      <td>2nd phase - general contingent</td>\n",
       "      <td>Journalism and Communication</td>\n",
       "      <td>daytime</td>\n",
       "      <td>Secondary education</td>\n",
       "      <td>Basic Education 2nd Cycle (6th/7th/8th Year) o...</td>\n",
       "      <td>Basic education 1st cycle (4th/5th year) or equiv</td>\n",
       "      <td>Personal Services, Security and Safety Workers...</td>\n",
       "      <td>Intermediate Level Technicians and Professions</td>\n",
       "      <td>...</td>\n",
       "      <td>119.6</td>\n",
       "      <td>20.0</td>\n",
       "      <td>0.0</td>\n",
       "      <td>6.0</td>\n",
       "      <td>8.0</td>\n",
       "      <td>6.0</td>\n",
       "      <td>13.428571</td>\n",
       "      <td>0.0</td>\n",
       "      <td>-3.12</td>\n",
       "      <td>1</td>\n",
       "    </tr>\n",
       "    <tr>\n",
       "      <th>4</th>\n",
       "      <td>4</td>\n",
       "      <td>married</td>\n",
       "      <td>Over 23 years old</td>\n",
       "      <td>Social Service (evening attendance)</td>\n",
       "      <td>evening</td>\n",
       "      <td>Secondary education</td>\n",
       "      <td>Basic education 1st cycle (4th/5th year) or eq...</td>\n",
       "      <td>Basic Education 2nd Cycle (6th/7th/8th Year) o...</td>\n",
       "      <td>Unskilled Workers</td>\n",
       "      <td>Unskilled Workers</td>\n",
       "      <td>...</td>\n",
       "      <td>141.5</td>\n",
       "      <td>45.0</td>\n",
       "      <td>0.0</td>\n",
       "      <td>6.0</td>\n",
       "      <td>9.0</td>\n",
       "      <td>5.0</td>\n",
       "      <td>12.333333</td>\n",
       "      <td>0.0</td>\n",
       "      <td>0.79</td>\n",
       "      <td>1</td>\n",
       "    </tr>\n",
       "  </tbody>\n",
       "</table>\n",
       "<p>5 rows × 27 columns</p>\n",
       "</div>"
      ],
      "text/plain": [
       "   Unnamed: 0 marital_status                  application_mode  \\\n",
       "0           0         single    2nd phase - general contingent   \n",
       "1           1         single  International student (bachelor)   \n",
       "2           2         single    1st phase - general contingent   \n",
       "3           3         single    2nd phase - general contingent   \n",
       "4           4        married                 Over 23 years old   \n",
       "\n",
       "                                course time_attendance previous_qualification  \\\n",
       "0      Animation and Multimedia Design         daytime    Secondary education   \n",
       "1                              Tourism         daytime    Secondary education   \n",
       "2                 Communication Design         daytime    Secondary education   \n",
       "3         Journalism and Communication         daytime    Secondary education   \n",
       "4  Social Service (evening attendance)         evening    Secondary education   \n",
       "\n",
       "                                mother_qualification  \\\n",
       "0  Basic Education 3rd Cycle (9th/10th/11th Year)...   \n",
       "1  Secondary Education - 12th Year of Schooling o...   \n",
       "2  Basic education 1st cycle (4th/5th year) or eq...   \n",
       "3  Basic Education 2nd Cycle (6th/7th/8th Year) o...   \n",
       "4  Basic education 1st cycle (4th/5th year) or eq...   \n",
       "\n",
       "                                father_qualification  \\\n",
       "0                     Other - 11th Year of Schooling   \n",
       "1                          Higher Education - Degree   \n",
       "2  Basic education 1st cycle (4th/5th year) or equiv   \n",
       "3  Basic education 1st cycle (4th/5th year) or equiv   \n",
       "4  Basic Education 2nd Cycle (6th/7th/8th Year) o...   \n",
       "\n",
       "                                   mother_occupation  \\\n",
       "0  Personal Services, Security and Safety Workers...   \n",
       "1     Intermediate Level Technicians and Professions   \n",
       "2                                  Unskilled Workers   \n",
       "3  Personal Services, Security and Safety Workers...   \n",
       "4                                  Unskilled Workers   \n",
       "\n",
       "                                father_occupation  ... Admission_grade  \\\n",
       "0                               Unskilled Workers  ...           127.3   \n",
       "1  Intermediate Level Technicians and Professions  ...           142.5   \n",
       "2                               Unskilled Workers  ...           124.8   \n",
       "3  Intermediate Level Technicians and Professions  ...           119.6   \n",
       "4                               Unskilled Workers  ...           141.5   \n",
       "\n",
       "  Age_at_enrollment Curricular_units_1st_sem_credited  \\\n",
       "0              20.0                               0.0   \n",
       "1              19.0                               0.0   \n",
       "2              19.0                               0.0   \n",
       "3              20.0                               0.0   \n",
       "4              45.0                               0.0   \n",
       "\n",
       "  Curricular_units_1st_sem_enrolled Curricular_units_1st_sem_evaluations  \\\n",
       "0                               0.0                                  0.0   \n",
       "1                               6.0                                  6.0   \n",
       "2                               6.0                                  0.0   \n",
       "3                               6.0                                  8.0   \n",
       "4                               6.0                                  9.0   \n",
       "\n",
       "   Curricular_units_1st_sem_approved  Curricular_units_1st_sem_grade  \\\n",
       "0                                0.0                        0.000000   \n",
       "1                                6.0                       14.000000   \n",
       "2                                0.0                        0.000000   \n",
       "3                                6.0                       13.428571   \n",
       "4                                5.0                       12.333333   \n",
       "\n",
       "   Curricular_units_1st_sem_without_evaluations   GDP  graduate  \n",
       "0                                           0.0  1.74         0  \n",
       "1                                           0.0  0.79         1  \n",
       "2                                           0.0  1.74         0  \n",
       "3                                           0.0 -3.12         1  \n",
       "4                                           0.0  0.79         1  \n",
       "\n",
       "[5 rows x 27 columns]"
      ]
     },
     "execution_count": 45,
     "metadata": {},
     "output_type": "execute_result"
    }
   ],
   "source": [
    "dataset.head()"
   ]
  },
  {
   "cell_type": "code",
   "execution_count": 46,
   "id": "7cf7fd4d-5ce4-45d4-bdbc-8f590fbdf1c6",
   "metadata": {},
   "outputs": [],
   "source": [
    "dataset.drop([dataset.keys()[0]], axis=1, inplace=True)"
   ]
  },
  {
   "cell_type": "code",
   "execution_count": 47,
   "id": "825806ea-c267-4021-a867-9e474e2159be",
   "metadata": {},
   "outputs": [],
   "source": [
    "x = dataset.iloc[:,:-1]\n",
    "y = dataset.iloc[:,-1]"
   ]
  },
  {
   "cell_type": "code",
   "execution_count": 73,
   "id": "6ac23d72-6c2e-4a60-8db0-995dbd6b508e",
   "metadata": {},
   "outputs": [
    {
     "data": {
      "text/html": [
       "<div>\n",
       "<style scoped>\n",
       "    .dataframe tbody tr th:only-of-type {\n",
       "        vertical-align: middle;\n",
       "    }\n",
       "\n",
       "    .dataframe tbody tr th {\n",
       "        vertical-align: top;\n",
       "    }\n",
       "\n",
       "    .dataframe thead th {\n",
       "        text-align: right;\n",
       "    }\n",
       "</style>\n",
       "<table border=\"1\" class=\"dataframe\">\n",
       "  <thead>\n",
       "    <tr style=\"text-align: right;\">\n",
       "      <th></th>\n",
       "      <th>marital_status</th>\n",
       "      <th>application_mode</th>\n",
       "      <th>course</th>\n",
       "      <th>time_attendance</th>\n",
       "      <th>previous_qualification</th>\n",
       "      <th>mother_qualification</th>\n",
       "      <th>father_qualification</th>\n",
       "      <th>mother_occupation</th>\n",
       "      <th>father_occupation</th>\n",
       "      <th>displaced</th>\n",
       "      <th>debtor</th>\n",
       "      <th>tuition_fees_up_to_date</th>\n",
       "      <th>gender</th>\n",
       "      <th>scholarship_holder</th>\n",
       "    </tr>\n",
       "  </thead>\n",
       "  <tbody>\n",
       "    <tr>\n",
       "      <th>0</th>\n",
       "      <td>single</td>\n",
       "      <td>2nd phase - general contingent</td>\n",
       "      <td>Animation and Multimedia Design</td>\n",
       "      <td>daytime</td>\n",
       "      <td>Secondary education</td>\n",
       "      <td>Basic Education 3rd Cycle (9th/10th/11th Year)...</td>\n",
       "      <td>Other - 11th Year of Schooling</td>\n",
       "      <td>Personal Services, Security and Safety Workers...</td>\n",
       "      <td>Unskilled Workers</td>\n",
       "      <td>yes</td>\n",
       "      <td>no</td>\n",
       "      <td>yes</td>\n",
       "      <td>male</td>\n",
       "      <td>no</td>\n",
       "    </tr>\n",
       "    <tr>\n",
       "      <th>1</th>\n",
       "      <td>single</td>\n",
       "      <td>International student (bachelor)</td>\n",
       "      <td>Tourism</td>\n",
       "      <td>daytime</td>\n",
       "      <td>Secondary education</td>\n",
       "      <td>Secondary Education - 12th Year of Schooling o...</td>\n",
       "      <td>Higher Education - Degree</td>\n",
       "      <td>Intermediate Level Technicians and Professions</td>\n",
       "      <td>Intermediate Level Technicians and Professions</td>\n",
       "      <td>yes</td>\n",
       "      <td>no</td>\n",
       "      <td>no</td>\n",
       "      <td>male</td>\n",
       "      <td>no</td>\n",
       "    </tr>\n",
       "    <tr>\n",
       "      <th>2</th>\n",
       "      <td>single</td>\n",
       "      <td>1st phase - general contingent</td>\n",
       "      <td>Communication Design</td>\n",
       "      <td>daytime</td>\n",
       "      <td>Secondary education</td>\n",
       "      <td>Basic education 1st cycle (4th/5th year) or eq...</td>\n",
       "      <td>Basic education 1st cycle (4th/5th year) or equiv</td>\n",
       "      <td>Unskilled Workers</td>\n",
       "      <td>Unskilled Workers</td>\n",
       "      <td>yes</td>\n",
       "      <td>no</td>\n",
       "      <td>no</td>\n",
       "      <td>male</td>\n",
       "      <td>no</td>\n",
       "    </tr>\n",
       "    <tr>\n",
       "      <th>3</th>\n",
       "      <td>single</td>\n",
       "      <td>2nd phase - general contingent</td>\n",
       "      <td>Journalism and Communication</td>\n",
       "      <td>daytime</td>\n",
       "      <td>Secondary education</td>\n",
       "      <td>Basic Education 2nd Cycle (6th/7th/8th Year) o...</td>\n",
       "      <td>Basic education 1st cycle (4th/5th year) or equiv</td>\n",
       "      <td>Personal Services, Security and Safety Workers...</td>\n",
       "      <td>Intermediate Level Technicians and Professions</td>\n",
       "      <td>yes</td>\n",
       "      <td>no</td>\n",
       "      <td>yes</td>\n",
       "      <td>female</td>\n",
       "      <td>no</td>\n",
       "    </tr>\n",
       "    <tr>\n",
       "      <th>4</th>\n",
       "      <td>married</td>\n",
       "      <td>Over 23 years old</td>\n",
       "      <td>Social Service (evening attendance)</td>\n",
       "      <td>evening</td>\n",
       "      <td>Secondary education</td>\n",
       "      <td>Basic education 1st cycle (4th/5th year) or eq...</td>\n",
       "      <td>Basic Education 2nd Cycle (6th/7th/8th Year) o...</td>\n",
       "      <td>Unskilled Workers</td>\n",
       "      <td>Unskilled Workers</td>\n",
       "      <td>no</td>\n",
       "      <td>no</td>\n",
       "      <td>yes</td>\n",
       "      <td>female</td>\n",
       "      <td>no</td>\n",
       "    </tr>\n",
       "  </tbody>\n",
       "</table>\n",
       "</div>"
      ],
      "text/plain": [
       "  marital_status                  application_mode  \\\n",
       "0         single    2nd phase - general contingent   \n",
       "1         single  International student (bachelor)   \n",
       "2         single    1st phase - general contingent   \n",
       "3         single    2nd phase - general contingent   \n",
       "4        married                 Over 23 years old   \n",
       "\n",
       "                                course time_attendance previous_qualification  \\\n",
       "0      Animation and Multimedia Design         daytime    Secondary education   \n",
       "1                              Tourism         daytime    Secondary education   \n",
       "2                 Communication Design         daytime    Secondary education   \n",
       "3         Journalism and Communication         daytime    Secondary education   \n",
       "4  Social Service (evening attendance)         evening    Secondary education   \n",
       "\n",
       "                                mother_qualification  \\\n",
       "0  Basic Education 3rd Cycle (9th/10th/11th Year)...   \n",
       "1  Secondary Education - 12th Year of Schooling o...   \n",
       "2  Basic education 1st cycle (4th/5th year) or eq...   \n",
       "3  Basic Education 2nd Cycle (6th/7th/8th Year) o...   \n",
       "4  Basic education 1st cycle (4th/5th year) or eq...   \n",
       "\n",
       "                                father_qualification  \\\n",
       "0                     Other - 11th Year of Schooling   \n",
       "1                          Higher Education - Degree   \n",
       "2  Basic education 1st cycle (4th/5th year) or equiv   \n",
       "3  Basic education 1st cycle (4th/5th year) or equiv   \n",
       "4  Basic Education 2nd Cycle (6th/7th/8th Year) o...   \n",
       "\n",
       "                                   mother_occupation  \\\n",
       "0  Personal Services, Security and Safety Workers...   \n",
       "1     Intermediate Level Technicians and Professions   \n",
       "2                                  Unskilled Workers   \n",
       "3  Personal Services, Security and Safety Workers...   \n",
       "4                                  Unskilled Workers   \n",
       "\n",
       "                                father_occupation displaced debtor  \\\n",
       "0                               Unskilled Workers       yes     no   \n",
       "1  Intermediate Level Technicians and Professions       yes     no   \n",
       "2                               Unskilled Workers       yes     no   \n",
       "3  Intermediate Level Technicians and Professions       yes     no   \n",
       "4                               Unskilled Workers        no     no   \n",
       "\n",
       "  tuition_fees_up_to_date  gender scholarship_holder  \n",
       "0                     yes    male                 no  \n",
       "1                      no    male                 no  \n",
       "2                      no    male                 no  \n",
       "3                     yes  female                 no  \n",
       "4                     yes  female                 no  "
      ]
     },
     "execution_count": 73,
     "metadata": {},
     "output_type": "execute_result"
    }
   ],
   "source": [
    "x[x.select_dtypes(include=['object']).columns.tolist()].head()"
   ]
  },
  {
   "cell_type": "code",
   "execution_count": 53,
   "id": "ac8cd24e-0a51-466b-91ee-060ddc449fc4",
   "metadata": {},
   "outputs": [
    {
     "data": {
      "text/html": [
       "<style>#sk-container-id-4 {color: black;background-color: white;}#sk-container-id-4 pre{padding: 0;}#sk-container-id-4 div.sk-toggleable {background-color: white;}#sk-container-id-4 label.sk-toggleable__label {cursor: pointer;display: block;width: 100%;margin-bottom: 0;padding: 0.3em;box-sizing: border-box;text-align: center;}#sk-container-id-4 label.sk-toggleable__label-arrow:before {content: \"▸\";float: left;margin-right: 0.25em;color: #696969;}#sk-container-id-4 label.sk-toggleable__label-arrow:hover:before {color: black;}#sk-container-id-4 div.sk-estimator:hover label.sk-toggleable__label-arrow:before {color: black;}#sk-container-id-4 div.sk-toggleable__content {max-height: 0;max-width: 0;overflow: hidden;text-align: left;background-color: #f0f8ff;}#sk-container-id-4 div.sk-toggleable__content pre {margin: 0.2em;color: black;border-radius: 0.25em;background-color: #f0f8ff;}#sk-container-id-4 input.sk-toggleable__control:checked~div.sk-toggleable__content {max-height: 200px;max-width: 100%;overflow: auto;}#sk-container-id-4 input.sk-toggleable__control:checked~label.sk-toggleable__label-arrow:before {content: \"▾\";}#sk-container-id-4 div.sk-estimator input.sk-toggleable__control:checked~label.sk-toggleable__label {background-color: #d4ebff;}#sk-container-id-4 div.sk-label input.sk-toggleable__control:checked~label.sk-toggleable__label {background-color: #d4ebff;}#sk-container-id-4 input.sk-hidden--visually {border: 0;clip: rect(1px 1px 1px 1px);clip: rect(1px, 1px, 1px, 1px);height: 1px;margin: -1px;overflow: hidden;padding: 0;position: absolute;width: 1px;}#sk-container-id-4 div.sk-estimator {font-family: monospace;background-color: #f0f8ff;border: 1px dotted black;border-radius: 0.25em;box-sizing: border-box;margin-bottom: 0.5em;}#sk-container-id-4 div.sk-estimator:hover {background-color: #d4ebff;}#sk-container-id-4 div.sk-parallel-item::after {content: \"\";width: 100%;border-bottom: 1px solid gray;flex-grow: 1;}#sk-container-id-4 div.sk-label:hover label.sk-toggleable__label {background-color: #d4ebff;}#sk-container-id-4 div.sk-serial::before {content: \"\";position: absolute;border-left: 1px solid gray;box-sizing: border-box;top: 0;bottom: 0;left: 50%;z-index: 0;}#sk-container-id-4 div.sk-serial {display: flex;flex-direction: column;align-items: center;background-color: white;padding-right: 0.2em;padding-left: 0.2em;position: relative;}#sk-container-id-4 div.sk-item {position: relative;z-index: 1;}#sk-container-id-4 div.sk-parallel {display: flex;align-items: stretch;justify-content: center;background-color: white;position: relative;}#sk-container-id-4 div.sk-item::before, #sk-container-id-4 div.sk-parallel-item::before {content: \"\";position: absolute;border-left: 1px solid gray;box-sizing: border-box;top: 0;bottom: 0;left: 50%;z-index: -1;}#sk-container-id-4 div.sk-parallel-item {display: flex;flex-direction: column;z-index: 1;position: relative;background-color: white;}#sk-container-id-4 div.sk-parallel-item:first-child::after {align-self: flex-end;width: 50%;}#sk-container-id-4 div.sk-parallel-item:last-child::after {align-self: flex-start;width: 50%;}#sk-container-id-4 div.sk-parallel-item:only-child::after {width: 0;}#sk-container-id-4 div.sk-dashed-wrapped {border: 1px dashed gray;margin: 0 0.4em 0.5em 0.4em;box-sizing: border-box;padding-bottom: 0.4em;background-color: white;}#sk-container-id-4 div.sk-label label {font-family: monospace;font-weight: bold;display: inline-block;line-height: 1.2em;}#sk-container-id-4 div.sk-label-container {text-align: center;}#sk-container-id-4 div.sk-container {/* jupyter's `normalize.less` sets `[hidden] { display: none; }` but bootstrap.min.css set `[hidden] { display: none !important; }` so we also need the `!important` here to be able to override the default hidden behavior on the sphinx rendered scikit-learn.org. See: https://github.com/scikit-learn/scikit-learn/issues/21755 */display: inline-block !important;position: relative;}#sk-container-id-4 div.sk-text-repr-fallback {display: none;}</style><div id=\"sk-container-id-4\" class=\"sk-top-container\"><div class=\"sk-text-repr-fallback\"><pre>OneHotEncoder(sparse_output=False)</pre><b>In a Jupyter environment, please rerun this cell to show the HTML representation or trust the notebook. <br />On GitHub, the HTML representation is unable to render, please try loading this page with nbviewer.org.</b></div><div class=\"sk-container\" hidden><div class=\"sk-item\"><div class=\"sk-estimator sk-toggleable\"><input class=\"sk-toggleable__control sk-hidden--visually\" id=\"sk-estimator-id-4\" type=\"checkbox\" checked><label for=\"sk-estimator-id-4\" class=\"sk-toggleable__label sk-toggleable__label-arrow\">OneHotEncoder</label><div class=\"sk-toggleable__content\"><pre>OneHotEncoder(sparse_output=False)</pre></div></div></div></div></div>"
      ],
      "text/plain": [
       "OneHotEncoder(sparse_output=False)"
      ]
     },
     "execution_count": 53,
     "metadata": {},
     "output_type": "execute_result"
    }
   ],
   "source": [
    "onehot = OneHotEncoder(sparse_output=False)\n",
    "onehot.fit(x[x.select_dtypes(include=['object']).columns.tolist()])"
   ]
  },
  {
   "cell_type": "code",
   "execution_count": 77,
   "id": "3d92c063-e267-4bdb-924b-a69e050d7d86",
   "metadata": {},
   "outputs": [
    {
     "data": {
      "text/plain": [
       "['marital_status',\n",
       " 'application_mode',\n",
       " 'course',\n",
       " 'time_attendance',\n",
       " 'previous_qualification',\n",
       " 'mother_qualification',\n",
       " 'father_qualification',\n",
       " 'mother_occupation',\n",
       " 'father_occupation',\n",
       " 'displaced',\n",
       " 'debtor',\n",
       " 'tuition_fees_up_to_date',\n",
       " 'gender',\n",
       " 'scholarship_holder']"
      ]
     },
     "execution_count": 77,
     "metadata": {},
     "output_type": "execute_result"
    }
   ],
   "source": [
    "x.select_dtypes(include=['object']).columns.tolist()"
   ]
  },
  {
   "cell_type": "code",
   "execution_count": 54,
   "id": "ab448327-bb36-4d91-821c-c4534c420a54",
   "metadata": {},
   "outputs": [
    {
     "data": {
      "text/plain": [
       "(3630, 14)"
      ]
     },
     "execution_count": 54,
     "metadata": {},
     "output_type": "execute_result"
    }
   ],
   "source": [
    "np.array(x[x.select_dtypes(include=['object']).columns.tolist()].values).shape"
   ]
  },
  {
   "cell_type": "code",
   "execution_count": 74,
   "id": "2aea2bdb-d0fe-407e-b80f-139474120876",
   "metadata": {},
   "outputs": [
    {
     "name": "stderr",
     "output_type": "stream",
     "text": [
      "C:\\Users\\yandiher\\AppData\\Local\\Programs\\Python\\Python311\\Lib\\site-packages\\sklearn\\base.py:439: UserWarning: X does not have valid feature names, but OneHotEncoder was fitted with feature names\n",
      "  warnings.warn(\n"
     ]
    }
   ],
   "source": [
    "x_onehot = onehot.transform(x[x.select_dtypes(include=['object']).columns.tolist()].values)"
   ]
  },
  {
   "cell_type": "code",
   "execution_count": 57,
   "id": "29b123ef-ad8c-448a-b99c-a465e7ca2b09",
   "metadata": {},
   "outputs": [
    {
     "data": {
      "text/plain": [
       "(3630, 204)"
      ]
     },
     "execution_count": 57,
     "metadata": {},
     "output_type": "execute_result"
    }
   ],
   "source": [
    "x_onehot.shape"
   ]
  },
  {
   "cell_type": "code",
   "execution_count": 61,
   "id": "bb1cca36-f8c0-4474-8c4c-0c31a1e4d8b6",
   "metadata": {},
   "outputs": [],
   "source": [
    "x_number = x[x.select_dtypes(include=['number']).columns.tolist()].values"
   ]
  },
  {
   "cell_type": "code",
   "execution_count": 62,
   "id": "937f549f-9d86-4ea0-aa0f-415fed2981ac",
   "metadata": {},
   "outputs": [
    {
     "data": {
      "text/plain": [
       "(3630, 11)"
      ]
     },
     "execution_count": 62,
     "metadata": {},
     "output_type": "execute_result"
    }
   ],
   "source": [
    "x_number.shape"
   ]
  },
  {
   "cell_type": "code",
   "execution_count": 65,
   "id": "56538ee5-905f-47db-a54a-dd3f0b2a6474",
   "metadata": {},
   "outputs": [],
   "source": [
    "x_merge = np.concatenate((x_onehot, x_number), axis=1)"
   ]
  },
  {
   "cell_type": "code",
   "execution_count": 69,
   "id": "6d3d94b6-15c0-41d0-90c4-2fbc6925c2c9",
   "metadata": {},
   "outputs": [],
   "source": [
    "scaler = MinMaxScaler()\n",
    "scaler.fit(x_merge)\n",
    "x_scaler = scaler.transform(x_merge)"
   ]
  },
  {
   "cell_type": "code",
   "execution_count": 71,
   "id": "956ba2b4-06a2-41ea-a3e6-eb3882cc8799",
   "metadata": {},
   "outputs": [],
   "source": [
    "x_train, x_test, y_train, y_test = train_test_split(x_scaler, y, random_state=42, stratify=y)"
   ]
  },
  {
   "cell_type": "code",
   "execution_count": 72,
   "id": "c9644a20-b0bf-4de3-a72e-344b474d01cf",
   "metadata": {},
   "outputs": [
    {
     "name": "stdout",
     "output_type": "stream",
     "text": [
      "              precision    recall  f1-score   support\n",
      "\n",
      "           0       0.90      0.77      0.83       355\n",
      "           1       0.86      0.95      0.90       553\n",
      "\n",
      "    accuracy                           0.88       908\n",
      "   macro avg       0.88      0.86      0.87       908\n",
      "weighted avg       0.88      0.88      0.88       908\n",
      "\n"
     ]
    }
   ],
   "source": [
    "clf = RandomForestClassifier()\n",
    "clf.fit(x_train, y_train)\n",
    "pred = clf.predict(x_test)\n",
    "print(classification_report(y_test, pred))"
   ]
  },
  {
   "cell_type": "code",
   "execution_count": 75,
   "id": "b61c27ae-0169-413a-aa8b-d345719bf94c",
   "metadata": {},
   "outputs": [
    {
     "data": {
      "text/plain": [
       "(3630,)"
      ]
     },
     "execution_count": 75,
     "metadata": {},
     "output_type": "execute_result"
    }
   ],
   "source": [
    "y.shape"
   ]
  },
  {
   "cell_type": "code",
   "execution_count": null,
   "id": "24c22ca6-ce6c-4a00-9b7d-1f70eade579a",
   "metadata": {},
   "outputs": [],
   "source": []
  },
  {
   "cell_type": "code",
   "execution_count": null,
   "id": "af343299-c6f0-461a-a4a3-5edc7644e623",
   "metadata": {},
   "outputs": [],
   "source": []
  },
  {
   "cell_type": "code",
   "execution_count": null,
   "id": "3d51206e-d4ad-4db5-b2cb-3f54303a3f6e",
   "metadata": {},
   "outputs": [],
   "source": []
  },
  {
   "cell_type": "code",
   "execution_count": null,
   "id": "e436a6a2-79e2-4297-a2b8-de5e816ac725",
   "metadata": {},
   "outputs": [],
   "source": []
  },
  {
   "cell_type": "code",
   "execution_count": 9,
   "id": "ccc8109c-019d-4087-971b-28f5ef9bde7f",
   "metadata": {},
   "outputs": [
    {
     "name": "stdout",
     "output_type": "stream",
     "text": [
      "dropout\n"
     ]
    }
   ],
   "source": [
    "pred = Predict([x_.iloc[0].values])\n",
    "pred"
   ]
  },
  {
   "cell_type": "markdown",
   "id": "aee259f0-4d52-489f-a09a-a73772c554f9",
   "metadata": {},
   "source": [
    "# value counts"
   ]
  },
  {
   "cell_type": "code",
   "execution_count": null,
   "id": "9e0c6f58-fa0e-4e71-b0fe-c46d3c67231a",
   "metadata": {},
   "outputs": [],
   "source": [
    "dataset.info()"
   ]
  },
  {
   "cell_type": "code",
   "execution_count": null,
   "id": "e7af2c41-c5d4-4f16-bc21-7c3f9fa4a97f",
   "metadata": {},
   "outputs": [],
   "source": [
    "for i in x_.keys():\n",
    "    if x_[i].dtype == 'O':\n",
    "        print(i)\n",
    "        print(x_[i].unique())\n",
    "        print(\"\")\n",
    "    else:\n",
    "        print(i)\n",
    "        print(x_[i].min(), 'and', x_[i].max())\n",
    "        print(\"\")"
   ]
  },
  {
   "cell_type": "code",
   "execution_count": null,
   "id": "31145df7-0870-4452-9eeb-91de330e505e",
   "metadata": {},
   "outputs": [],
   "source": []
  }
 ],
 "metadata": {
  "kernelspec": {
   "display_name": "Python 3 (ipykernel)",
   "language": "python",
   "name": "python3"
  },
  "language_info": {
   "codemirror_mode": {
    "name": "ipython",
    "version": 3
   },
   "file_extension": ".py",
   "mimetype": "text/x-python",
   "name": "python",
   "nbconvert_exporter": "python",
   "pygments_lexer": "ipython3",
   "version": "3.11.2"
  }
 },
 "nbformat": 4,
 "nbformat_minor": 5
}
